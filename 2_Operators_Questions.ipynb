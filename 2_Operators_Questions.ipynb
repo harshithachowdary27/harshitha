{
 "cells": [
  {
   "cell_type": "code",
   "execution_count": 12,
   "metadata": {},
   "outputs": [
    {
     "name": "stdout",
     "output_type": "stream",
     "text": [
      "15\n",
      "5\n",
      "2.0\n"
     ]
    }
   ],
   "source": [
    "# 1 .Question | Write a program to print 15,5,2 and 0 ,use the approriate operator\n",
    "\n",
    "a = 10\n",
    "b = 5\n",
    "\n",
    "# Your Answer\n",
    "\n",
    "\n",
    "\n",
    "\n",
    "print(a+b)\n",
    "print(b)\n",
    "print(a/b)\n",
    "\n",
    "\n"
   ]
  },
  {
   "cell_type": "code",
   "execution_count": 14,
   "metadata": {},
   "outputs": [
    {
     "name": "stdout",
     "output_type": "stream",
     "text": [
      "9\n"
     ]
    }
   ],
   "source": [
    "# 2 .Question | write a code to print 9 , use the approriate operator\n",
    "a = 3\n",
    "b = 2\n",
    "\n",
    "# Your Answer\n",
    "print(a**b)\n",
    "\n"
   ]
  },
  {
   "cell_type": "code",
   "execution_count": 3,
   "metadata": {},
   "outputs": [
    {
     "name": "stdout",
     "output_type": "stream",
     "text": [
      "9\n",
      "4\n"
     ]
    }
   ],
   "source": [
    "# 4 .Question | # write a code to print 2 , 2.25 and 1 , use the approriate operator\n",
    "\n",
    "x = 9\n",
    "y = 4\n",
    "\n",
    "# Your Answer\n",
    "\n",
    "\n",
    "\n",
    "print(x\n",
    "print(y)\n"
   ]
  },
  {
   "cell_type": "code",
   "execution_count": 4,
   "metadata": {},
   "outputs": [
    {
     "name": "stdout",
     "output_type": "stream",
     "text": [
      "10\n",
      "5\n"
     ]
    }
   ],
   "source": [
    "# 5 .Question |  # write a code print True ,use the approriate operator\n",
    "\n",
    "a = 10\n",
    "b = 5\n",
    "\n",
    "# Your Answer\n",
    "\n",
    "print(a)\n",
    "print(b)\n",
    "\n",
    "\n"
   ]
  },
  {
   "cell_type": "code",
   "execution_count": 5,
   "metadata": {},
   "outputs": [
    {
     "name": "stdout",
     "output_type": "stream",
     "text": [
      "15\n",
      "15\n"
     ]
    }
   ],
   "source": [
    "# 5 .Question | # # write a code print Fale\n",
    "\n",
    "a = 15\n",
    "b = 15 \n",
    "\n",
    "# Your Answer\n",
    "\n",
    "\n",
    "print(a)\n",
    "print(b)\n",
    "\n"
   ]
  },
  {
   "cell_type": "code",
   "execution_count": 6,
   "metadata": {},
   "outputs": [
    {
     "name": "stdout",
     "output_type": "stream",
     "text": [
      "24\n",
      "24\n"
     ]
    }
   ],
   "source": [
    "# 6 .Question | # # write a code print True\n",
    "\n",
    "a = 24\n",
    "b = 24\n",
    "\n",
    "# Your Answer\n",
    "\n",
    "\n",
    "\n",
    "\n",
    "print(a)\n",
    "print(b)"
   ]
  },
  {
   "cell_type": "code",
   "execution_count": 7,
   "metadata": {},
   "outputs": [
    {
     "name": "stdout",
     "output_type": "stream",
     "text": [
      "python\n",
      "python\n"
     ]
    }
   ],
   "source": [
    "# 7 .Question | # # write a code print True\n",
    "\n",
    "a = \"python\"\n",
    "b = \"python\"\n",
    "\n",
    "# Your Answer\n",
    "\n",
    "\n",
    "\n",
    "print(a)\n",
    "print(b)\n"
   ]
  },
  {
   "cell_type": "code",
   "execution_count": 8,
   "metadata": {},
   "outputs": [
    {
     "name": "stdout",
     "output_type": "stream",
     "text": [
      "10\n",
      "20\n"
     ]
    }
   ],
   "source": [
    "# 8 .Question | #  write a code print false using and operator\n",
    "\n",
    "a = 10 \n",
    "b = 20\n",
    "\n",
    "# Your Answer\n",
    "\n",
    "\n",
    "print(a)\n",
    "print(b)\n",
    "\n"
   ]
  },
  {
   "cell_type": "code",
   "execution_count": 9,
   "metadata": {},
   "outputs": [
    {
     "name": "stdout",
     "output_type": "stream",
     "text": [
      "20\n",
      "10\n"
     ]
    }
   ],
   "source": [
    "# 9 .Question | #  write a code print True using or operator\n",
    "\n",
    "a = 20\n",
    "b = 10 \n",
    "\n",
    "# Your Answer\n",
    "\n",
    "\n",
    "\n",
    "print(a)\n",
    "print(b)\n",
    "\n"
   ]
  },
  {
   "cell_type": "code",
   "execution_count": 10,
   "metadata": {},
   "outputs": [
    {
     "name": "stdout",
     "output_type": "stream",
     "text": [
      "20\n",
      "10\n"
     ]
    }
   ],
   "source": [
    "# 10 .Question | #  write a code print True using Not operator\n",
    "\n",
    "a = 20\n",
    "b = 10 \n",
    "\n",
    "# Your Answer\n",
    "\n",
    "print(a)\n",
    "print(b)\n",
    "\n",
    "\n"
   ]
  },
  {
   "cell_type": "code",
   "execution_count": null,
   "metadata": {},
   "outputs": [],
   "source": []
  }
 ],
 "metadata": {
  "kernelspec": {
   "display_name": "Python 3 (ipykernel)",
   "language": "python",
   "name": "python3"
  },
  "language_info": {
   "codemirror_mode": {
    "name": "ipython",
    "version": 3
   },
   "file_extension": ".py",
   "mimetype": "text/x-python",
   "name": "python",
   "nbconvert_exporter": "python",
   "pygments_lexer": "ipython3",
   "version": "3.10.9"
  }
 },
 "nbformat": 4,
 "nbformat_minor": 2
}
